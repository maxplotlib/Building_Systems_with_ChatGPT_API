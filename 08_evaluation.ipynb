{
 "cells": [
  {
   "cell_type": "markdown",
   "id": "c284153a",
   "metadata": {},
   "source": [
    "# Evaluation Part II\n",
    "\n",
    "Evaluate LLM responses where there isn't a single \"right answer.\""
   ]
  },
  {
   "cell_type": "code",
   "execution_count": 2,
   "id": "1366f757",
   "metadata": {},
   "outputs": [],
   "source": [
    "import openai\n",
    "import os\n",
    "from dotenv import load_dotenv,find_dotenv\n",
    "import textwrap\n",
    "import utils\n",
    "\n",
    "load_dotenv(find_dotenv())\n",
    "openai.api_key = os.getenv(\"OPENAI_API_KEY\")\n",
    "client = openai.OpenAI()"
   ]
  },
  {
   "cell_type": "code",
   "execution_count": 3,
   "id": "ae565205",
   "metadata": {},
   "outputs": [],
   "source": [
    "def print_wrapped(text, max_cols=80):\n",
    "    wrapped = textwrap.fill(text, width=max_cols)\n",
    "    print(wrapped)"
   ]
  },
  {
   "cell_type": "code",
   "execution_count": 4,
   "id": "1e172e48",
   "metadata": {},
   "outputs": [],
   "source": [
    "def get_completion_from_messages(messages, model=\"gpt-3.5-turbo\", temperature=0, max_tokens=500):\n",
    "    response = client.chat.completions.create(\n",
    "        messages=messages,\n",
    "        model=model,\n",
    "        temperature=temperature,\n",
    "        max_tokens=max_tokens\n",
    "    )\n",
    "    return response.choices[0].message.content"
   ]
  },
  {
   "cell_type": "markdown",
   "id": "14e64be3",
   "metadata": {},
   "source": [
    "### Run through the end-to-end system to answer the user query\n",
    "\n",
    "These helper functions are running the chain of promopts that you saw in the earlier videos."
   ]
  },
  {
   "cell_type": "code",
   "execution_count": 5,
   "id": "61238cb8",
   "metadata": {},
   "outputs": [],
   "source": [
    "customer_msg = f\"\"\"tell me about the smartx pro phone and the fotosnap camera, the dslr one.\n",
    "Also, what TVs or TV related products do you have?\"\"\"\n",
    "\n",
    "products_by_category = utils.get_products_from_query(customer_msg)\n",
    "category_and_product_list = utils.read_string_to_list(products_by_category)\n",
    "product_info = utils.get_mentioned_product_info(category_and_product_list)\n",
    "assistant_answer = utils.answer_user_msg(user_msg=customer_msg, product_info=product_info)"
   ]
  },
  {
   "cell_type": "code",
   "execution_count": 6,
   "id": "0b28320a",
   "metadata": {},
   "outputs": [
    {
     "name": "stdout",
     "output_type": "stream",
     "text": [
      "The SmartX ProPhone features a 6.1-inch display, 128GB storage, 12MP dual camera, and 5G capability. It is priced at $899.99 with a 1-year warranty.\n",
      "\n",
      "The FotoSnap DSLR Camera has a 24.2MP sensor, shoots 1080p video, has a 3-inch LCD screen, and supports interchangeable lenses. It is priced at $599.99 with a 1-year warranty.\n",
      "\n",
      "For TVs and related products, we have the CineView 4K TV (55-inch, 4K resolution, HDR, Smart TV) for $599.99, the CineView 8K TV (65-inch, 8K resolution, HDR, Smart TV) for $2999.99, the SoundMax Home Theater system (5.1 channel, 1000W output, Bluetooth) for $399.99, the SoundMax Soundbar (2.1 channel, 300W output, Bluetooth) for $199.99, and the CineView OLED TV (55-inch, 4K resolution, HDR, Smart TV) for $1499.99.\n",
      "\n",
      "Do you have any specific preferences or questions about these products?\n"
     ]
    }
   ],
   "source": [
    "print(assistant_answer) "
   ]
  },
  {
   "cell_type": "markdown",
   "id": "afb64dd9",
   "metadata": {},
   "source": [
    "### Evaluate the LLM's answer to the user with a rubric, based on the extracted product information"
   ]
  },
  {
   "cell_type": "code",
   "execution_count": 7,
   "id": "18e61907",
   "metadata": {},
   "outputs": [],
   "source": [
    "cust_prod_info = {\n",
    "    'customer_msg': customer_msg,\n",
    "    'context': product_info\n",
    "}"
   ]
  },
  {
   "cell_type": "code",
   "execution_count": null,
   "id": "62f3b765",
   "metadata": {},
   "outputs": [],
   "source": [
    "def eval_with_rubric(test_set, assistant_answer):\n",
    "\n",
    "    cust_msg = test_set['customer_msg']\n",
    "    context = test_set['context']\n",
    "    completion = assistant_answer\n",
    "    \n",
    "    system_message = \"\"\"\n",
    "        You are an assistant that evaluates how well the customer service agent \n",
    "        answers a user question by looking at the context that the customer service \n",
    "        agent is using to generate its response. \n",
    "        \"\"\"\n",
    "        \n",
    "    user_message = f\"\"\"\n",
    "        You are evaluating a submitted answer to a question based on the context \n",
    "        that the agent uses to answer the question.\n",
    "        Here is the data:\n",
    "            [BEGIN DATA]\n",
    "            ************\n",
    "            [Question]: {cust_msg}\n",
    "            ************\n",
    "            [Context]: {context}\n",
    "            ************\n",
    "            [Submission]: {completion}\n",
    "            ************\n",
    "            [END DATA]\n",
    "\n",
    "        Compare the factual content of the submitted answer with the context. \n",
    "        Ignore any differences in style, grammar, or punctuation.\n",
    "        Answer the following questions:\n",
    "            - Is the Assistant response based only on the context provided? (Y or N)\n",
    "            - Does the answer include information that is not provided in the context? (Y or N)\n",
    "            - Is there any disagreement between the response and the context? (Y or N)\n",
    "            - Count how many questions the user asked. (output a number)\n",
    "            - For each question that the user asked, is there a corresponding answer to it?\n",
    "            Question 1: (Y or N)\n",
    "            Question 2: (Y or N)\n",
    "            ...\n",
    "            Question N: (Y or N)\n",
    "            - Of the number of questions asked, how many of these questions were addressed by the answer? (output a number)\n",
    "    \"\"\"\n",
    "\n",
    "    messages = [\n",
    "        {'role': 'system', 'content': system_message},\n",
    "        {'role': 'user', 'content': user_message}\n",
    "    ]\n",
    "\n",
    "    response = get_completion_from_messages(messages)\n",
    "    return response"
   ]
  },
  {
   "cell_type": "code",
   "execution_count": 9,
   "id": "774a54e6",
   "metadata": {},
   "outputs": [],
   "source": [
    "evaluation_output = eval_with_rubric(cust_prod_info, assistant_answer)"
   ]
  },
  {
   "cell_type": "code",
   "execution_count": 10,
   "id": "b9c6634c",
   "metadata": {},
   "outputs": [
    {
     "name": "stdout",
     "output_type": "stream",
     "text": [
      "- Is the Assistant response based only on the context provided? (Y or N)\n",
      "    Y\n",
      "\n",
      "- Does the answer include information that is not provided in the context? (Y or N)\n",
      "    N\n",
      "\n",
      "- Is there any disagreement between the response and the context? (Y or N)\n",
      "    N\n",
      "\n",
      "- Count how many questions the user asked. (output a number)\n",
      "    1\n",
      "\n",
      "- For each question that the user asked, is there a corresponding answer to it?\n",
      "    Question 1: Y\n",
      "\n",
      "- Of the number of questions asked, how many of these questions were addressed by the answer? (output a number)\n",
      "    1\n"
     ]
    }
   ],
   "source": [
    "print(evaluation_output)"
   ]
  },
  {
   "cell_type": "markdown",
   "id": "09c65ad4",
   "metadata": {},
   "source": [
    "### Evaluate the LLM's answer to the user based on an \"ideal\" / \"expert\" (human generated) answer."
   ]
  },
  {
   "cell_type": "code",
   "execution_count": 14,
   "id": "00566bc1",
   "metadata": {},
   "outputs": [],
   "source": [
    "test_set_ideal = {\n",
    "    'customer_msg': \"\"\"\n",
    "        tell me about the smartx pro phone and the fotosnap camera, the dslr one.\n",
    "        Also, what TVs or TV related products do you have?\"\"\",\n",
    "    'ideal_answer':\"\"\"\n",
    "        Of course!  The SmartX ProPhone is a powerful \n",
    "        smartphone with advanced camera features. \n",
    "        For instance, it has a 12MP dual camera. \n",
    "        Other features include 5G wireless and 128GB storage. \n",
    "        It also has a 6.1-inch display.  The price is $899.99.\n",
    "\n",
    "        The FotoSnap DSLR Camera is great for \n",
    "        capturing stunning photos and videos. \n",
    "        Some features include 1080p video, \n",
    "        3-inch LCD, a 24.2MP sensor, \n",
    "        and interchangeable lenses. \n",
    "        The price is 599.99.\n",
    "\n",
    "        For TVs and TV related products, we offer 3 TVs \n",
    "\n",
    "\n",
    "        All TVs offer HDR and Smart TV.\n",
    "\n",
    "        The CineView 4K TV has vibrant colors and smart features. \n",
    "        Some of these features include a 55-inch display, \n",
    "        '4K resolution. It's priced at 599.\n",
    "\n",
    "        The CineView 8K TV is a stunning 8K TV. \n",
    "        Some features include a 65-inch display and \n",
    "        8K resolution.  It's priced at 2999.99\n",
    "\n",
    "        The CineView OLED TV lets you experience vibrant colors. \n",
    "        Some features include a 55-inch display and 4K resolution. \n",
    "        It's priced at 1499.99.\n",
    "\n",
    "        We also offer 2 home theater products, both which include bluetooth.\n",
    "        The SoundMax Home Theater is a powerful home theater system for \n",
    "        an immmersive audio experience.\n",
    "        Its features include 5.1 channel, 1000W output, and wireless subwoofer.\n",
    "        It's priced at 399.99.\n",
    "\n",
    "        The SoundMax Soundbar is a sleek and powerful soundbar.\n",
    "        It's features include 2.1 channel, 300W output, and wireless subwoofer.\n",
    "        It's priced at 199.99\n",
    "\n",
    "        Are there any questions additional you may have about these products \n",
    "        that you mentioned here?\n",
    "        Or may do you have other questions I can help you with?\n",
    "    \"\"\"\n",
    "}"
   ]
  },
  {
   "cell_type": "code",
   "execution_count": 27,
   "id": "28cac7c1",
   "metadata": {},
   "outputs": [],
   "source": [
    "def eval_vs_ideal(test_set, assistant_answer):\n",
    "\n",
    "    cust_msg = test_set['customer_msg']\n",
    "    ideal = test_set['ideal_answer']\n",
    "    completion = assistant_answer\n",
    "    \n",
    "    system_message = \"\"\"\n",
    "    You are an assistant that evaluates how well the customer service agent \n",
    "    answers a user question by comparing the response to the ideal (expert) response\n",
    "    Output a single letter and nothing else. \n",
    "    \"\"\"\n",
    "\n",
    "    user_message = f\"\"\"\n",
    "    You are comparing a submitted answer to an expert answer on a given question. Here is the data:\n",
    "    [BEGIN DATA]\n",
    "    ************\n",
    "    [Question]: {cust_msg}\n",
    "    ************\n",
    "    [Expert]: {ideal}\n",
    "    ************\n",
    "    [Submission]: {completion}\n",
    "    ************\n",
    "    [END DATA]\n",
    "\n",
    "    Compare the factual content of the submitted answer with the expert answer. Ignore any differences in style, grammar, or punctuation.\n",
    "    The submitted answer may either be a subset or superset of the expert answer, or it may conflict with it. Determine which case applies. \n",
    "    Answer the question by selecting one of the following options:\n",
    "    \n",
    "    (A) The submitted answer is a subset of the expert answer and is fully consistent with it.\n",
    "    (B) The submitted answer is a superset of the expert answer and is fully consistent with it.\n",
    "    (C) The submitted answer contains all the same details as the expert answer.\n",
    "    (D) There is a disagreement between the submitted answer and the expert answer.\n",
    "    (E) The answers differ, but these differences don't matter from the perspective of factuality.\n",
    "    \n",
    "    choice_strings: ABCDE\n",
    "    \"\"\"\n",
    "\n",
    "    messages = [\n",
    "        {'role': 'system', 'content': system_message},\n",
    "        {'role': 'user', 'content': user_message}\n",
    "    ]\n",
    "\n",
    "    response = get_completion_from_messages(messages)\n",
    "    return response"
   ]
  },
  {
   "cell_type": "code",
   "execution_count": 25,
   "id": "206e8096",
   "metadata": {},
   "outputs": [
    {
     "name": "stdout",
     "output_type": "stream",
     "text": [
      "The SmartX ProPhone features a 6.1-inch display, 128GB storage, 12MP dual camera, and 5G capability. It is priced at $899.99 with a 1-year warranty.\n",
      "\n",
      "The FotoSnap DSLR Camera has a 24.2MP sensor, shoots 1080p video, has a 3-inch LCD screen, and supports interchangeable lenses. It is priced at $599.99 with a 1-year warranty.\n",
      "\n",
      "For TVs and related products, we have the CineView 4K TV (55-inch, 4K resolution, HDR, Smart TV) for $599.99, the CineView 8K TV (65-inch, 8K resolution, HDR, Smart TV) for $2999.99, the SoundMax Home Theater system (5.1 channel, 1000W output, Bluetooth) for $399.99, the SoundMax Soundbar (2.1 channel, 300W output, Bluetooth) for $199.99, and the CineView OLED TV (55-inch, 4K resolution, HDR, Smart TV) for $1499.99.\n",
      "\n",
      "Do you have any specific preferences or questions about these products?\n"
     ]
    }
   ],
   "source": [
    "print(assistant_answer)"
   ]
  },
  {
   "cell_type": "code",
   "execution_count": 28,
   "id": "c9a8fcdc",
   "metadata": {},
   "outputs": [
    {
     "data": {
      "text/plain": [
       "'B'"
      ]
     },
     "execution_count": 28,
     "metadata": {},
     "output_type": "execute_result"
    }
   ],
   "source": [
    "eval_vs_ideal(test_set_ideal, assistant_answer)"
   ]
  },
  {
   "cell_type": "code",
   "execution_count": 19,
   "id": "9dfc33f7",
   "metadata": {},
   "outputs": [],
   "source": [
    "assistant_answer_2 = \"life is like a box of chocolates\""
   ]
  },
  {
   "cell_type": "code",
   "execution_count": 29,
   "id": "dbd9a33b",
   "metadata": {},
   "outputs": [
    {
     "data": {
      "text/plain": [
       "'D'"
      ]
     },
     "execution_count": 29,
     "metadata": {},
     "output_type": "execute_result"
    }
   ],
   "source": [
    "eval_vs_ideal(test_set_ideal, assistant_answer_2)"
   ]
  }
 ],
 "metadata": {
  "kernelspec": {
   "display_name": "env",
   "language": "python",
   "name": "python3"
  },
  "language_info": {
   "codemirror_mode": {
    "name": "ipython",
    "version": 3
   },
   "file_extension": ".py",
   "mimetype": "text/x-python",
   "name": "python",
   "nbconvert_exporter": "python",
   "pygments_lexer": "ipython3",
   "version": "3.12.1"
  }
 },
 "nbformat": 4,
 "nbformat_minor": 5
}
