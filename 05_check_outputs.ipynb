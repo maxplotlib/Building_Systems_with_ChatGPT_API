{
 "cells": [
  {
   "cell_type": "markdown",
   "id": "52855658",
   "metadata": {},
   "source": [
    "# Check outputs"
   ]
  },
  {
   "cell_type": "code",
   "execution_count": 2,
   "id": "be55586f",
   "metadata": {},
   "outputs": [],
   "source": [
    "import openai\n",
    "import os\n",
    "from dotenv import load_dotenv,find_dotenv\n",
    "import textwrap\n",
    "\n",
    "load_dotenv(find_dotenv())\n",
    "openai.api_key = os.getenv(\"OPENAI_API_KEY\")\n",
    "client = openai.OpenAI()"
   ]
  },
  {
   "cell_type": "code",
   "execution_count": 3,
   "id": "13ffa00c",
   "metadata": {},
   "outputs": [],
   "source": [
    "def print_wrapped(text, max_cols=80):\n",
    "    wrapped = textwrap.fill(text, width=max_cols)\n",
    "    print(wrapped)"
   ]
  },
  {
   "cell_type": "code",
   "execution_count": 4,
   "id": "2aff4778",
   "metadata": {},
   "outputs": [],
   "source": [
    "def get_completion_from_messages(messages, model=\"gpt-3.5-turbo\", temperature=0, max_tokens=500):\n",
    "    response = client.chat.completions.create(\n",
    "        messages=messages,\n",
    "        model=model,\n",
    "        temperature=temperature,\n",
    "        max_tokens=max_tokens\n",
    "    )\n",
    "    return response.choices[0].message.content"
   ]
  },
  {
   "cell_type": "code",
   "execution_count": 6,
   "id": "a38f7e39",
   "metadata": {},
   "outputs": [],
   "source": [
    "final_response_to_customer = f\"\"\"\n",
    "The SmartX ProPhone has a 6.1-inch display, 128GB storage, \n",
    "12MP dual camera, and 5G. The FotoSnap DSLR Camera \n",
    "has a 24.2MP sensor, 1080p video, 3-inch LCD, and \n",
    "interchangeable lenses. We have a variety of TVs, including \n",
    "the CineView 4K TV with a 55-inch display, 4K resolution, \n",
    "HDR, and smart TV features. We also have the SoundMax \n",
    "Home Theater system with 5.1 channel, 1000W output, wireless \n",
    "subwoofer, and Bluetooth. Do you have any specific questions \n",
    "about these products or any other products we offer?\n",
    "\"\"\""
   ]
  },
  {
   "cell_type": "code",
   "execution_count": 11,
   "id": "2a3955d0",
   "metadata": {},
   "outputs": [],
   "source": [
    "response = openai.moderations.create(input=final_response_to_customer)\n",
    "moderation_output = response.results[0]"
   ]
  },
  {
   "cell_type": "code",
   "execution_count": 15,
   "id": "a001b627",
   "metadata": {},
   "outputs": [
    {
     "data": {
      "text/plain": [
       "{'categories': {'harassment': False,\n",
       "  'harassment_threatening': False,\n",
       "  'hate': False,\n",
       "  'hate_threatening': False,\n",
       "  'illicit': None,\n",
       "  'illicit_violent': None,\n",
       "  'self_harm': False,\n",
       "  'self_harm_instructions': False,\n",
       "  'self_harm_intent': False,\n",
       "  'sexual': False,\n",
       "  'sexual_minors': False,\n",
       "  'violence': False,\n",
       "  'violence_graphic': False,\n",
       "  'self-harm': False,\n",
       "  'sexual/minors': False,\n",
       "  'hate/threatening': False,\n",
       "  'violence/graphic': False,\n",
       "  'self-harm/intent': False,\n",
       "  'self-harm/instructions': False,\n",
       "  'harassment/threatening': False},\n",
       " 'category_applied_input_types': None,\n",
       " 'category_scores': {'harassment': 3.460483640083112e-05,\n",
       "  'harassment_threatening': 1.392046488035703e-05,\n",
       "  'hate': 1.2042161870340351e-05,\n",
       "  'hate_threatening': 3.340657031003502e-06,\n",
       "  'illicit': None,\n",
       "  'illicit_violent': None,\n",
       "  'self_harm': 2.9311345315363724e-06,\n",
       "  'self_harm_instructions': 8.484566365041246e-07,\n",
       "  'self_harm_intent': 1.574383713887073e-05,\n",
       "  'sexual': 0.00021375197684392333,\n",
       "  'sexual_minors': 2.36804971791571e-05,\n",
       "  'violence': 0.0003073976549785584,\n",
       "  'violence_graphic': 1.290273303311551e-05,\n",
       "  'self-harm': 2.9311345315363724e-06,\n",
       "  'sexual/minors': 2.36804971791571e-05,\n",
       "  'hate/threatening': 3.340657031003502e-06,\n",
       "  'violence/graphic': 1.290273303311551e-05,\n",
       "  'self-harm/intent': 1.574383713887073e-05,\n",
       "  'self-harm/instructions': 8.484566365041246e-07,\n",
       "  'harassment/threatening': 1.392046488035703e-05},\n",
       " 'flagged': False}"
      ]
     },
     "execution_count": 15,
     "metadata": {},
     "output_type": "execute_result"
    }
   ],
   "source": [
    "moderation_output.model_dump()"
   ]
  },
  {
   "cell_type": "markdown",
   "id": "c6245440",
   "metadata": {},
   "source": [
    "### Check if output is factually based on the provided product information"
   ]
  },
  {
   "cell_type": "code",
   "execution_count": 17,
   "id": "08c85af7",
   "metadata": {},
   "outputs": [],
   "source": [
    "system_message = f\"\"\"\n",
    "You are an assistant that evaluates whether \n",
    "customer service agent responses sufficiently \n",
    "answer customer questions, and also validates that \n",
    "all the facts the assistant cites from the product \n",
    "information are correct.\n",
    "The product information and user and customer \n",
    "service agent messages will be delimited by \n",
    "3 backticks, i.e. ```.\n",
    "Respond with a Y or N character, with no punctuation:\n",
    "Y - if the output sufficiently answers the question \n",
    "AND the response correctly uses product information\n",
    "N - otherwise\n",
    "\n",
    "Output a single letter only.\n",
    "\"\"\"\n",
    "\n",
    "customer_message = f\"\"\"\n",
    "tell me about the smartx pro phone and \n",
    "the fotosnap camera, the dslr one. \n",
    "Also tell me about your tvs\"\"\"\n",
    "\n",
    "product_information = \"\"\"{ \"name\": \"SmartX ProPhone\", \"category\": \"Smartphones and Accessories\", \"brand\": \"SmartX\", \"model_number\": \"SX-PP10\", \"warranty\": \"1 year\", \"rating\": 4.6, \n",
    "\"features\": [ \"6.1-inch display\", \"128GB storage\", \"12MP dual camera\", \"5G\" ], \"description\": \"A powerful smartphone with advanced camera features.\", \"price\": 899.99 }\n",
    "\n",
    "{ \"name\": \"FotoSnap DSLR Camera\", \"category\": \"Cameras and Camcorders\", \"brand\": \"FotoSnap\", \"model_number\": \"FS-DSLR200\", \"warranty\": \"1 year\", \"rating\": 4.7, \n",
    "\"features\": [ \"24.2MP sensor\", \"1080p video\", \"3-inch LCD\", \"Interchangeable lenses\" ], \"description\": \"Capture stunning photos and videos with this versatile DSLR camera.\", \"price\": 599.99 } \n",
    "\n",
    "{ \"name\": \"CineView 4K TV\", \"category\": \"Televisions and Home Theater Systems\", \"brand\": \"CineView\", \"model_number\": \"CV-4K55\", \"warranty\": \"2 years\", \"rating\": 4.8, \n",
    "\"features\": [ \"55-inch display\", \"4K resolution\", \"HDR\", \"Smart TV\" ], \"description\": \"A stunning 4K TV with vibrant colors and smart features.\", \"price\": 599.99 } \n",
    "\n",
    "{ \"name\": \"SoundMax Home Theater\", \"category\": \"Televisions and Home Theater Systems\", \"brand\": \"SoundMax\", \"model_number\": \"SM-HT100\", \"warranty\": \"1 year\", \"rating\": 4.4, \n",
    "\"features\": [ \"5.1 channel\", \"1000W output\", \"Wireless subwoofer\", \"Bluetooth\" ], \"description\": \"A powerful home theater system for an immersive audio experience.\", \"price\": 399.99 } \n",
    "\n",
    "{ \"name\": \"CineView 8K TV\", \"category\": \"Televisions and Home Theater Systems\", \"brand\": \"CineView\", \"model_number\": \"CV-8K65\", \"warranty\": \"2 years\", \"rating\": 4.9, \n",
    "\"features\": [ \"65-inch display\", \"8K resolution\", \"HDR\", \"Smart TV\" ], \"description\": \"Experience the future of television with this stunning 8K TV.\", \"price\": 2999.99 } \n",
    "\n",
    "{ \"name\": \"SoundMax Soundbar\", \"category\": \"Televisions and Home Theater Systems\", \"brand\": \"SoundMax\", \"model_number\": \"SM-SB50\", \"warranty\": \"1 year\", \"rating\": 4.3, \n",
    "\"features\": [ \"2.1 channel\", \"300W output\", \"Wireless subwoofer\", \"Bluetooth\" ], \"description\": \"Upgrade your TV's audio with this sleek and powerful soundbar.\", \"price\": 199.99 } \n",
    "\n",
    "{ \"name\": \"CineView OLED TV\", \"category\": \"Televisions and Home Theater Systems\", \"brand\": \"CineView\", \"model_number\": \"CV-OLED55\", \"warranty\": \"2 years\", \"rating\": 4.7, \n",
    "\"features\": [ \"55-inch display\", \"4K resolution\", \"HDR\", \"Smart TV\" ], \"description\": \"Experience true blacks and vibrant colors with this OLED TV.\", \"price\": 1499.99 }\"\"\"\n",
    "\n",
    "q_a_pair = f\"\"\"\n",
    "Customer message: ```{customer_message}```\n",
    "Product information: ```{product_information}```\n",
    "Agent response: ```{final_response_to_customer}```\n",
    "\n",
    "Does the response use the retrieved information correctly?\n",
    "Does the response sufficiently answer the question\n",
    "\n",
    "Output Y or N\n",
    "\"\"\"\n",
    "\n",
    "messages = [\n",
    "    {'role': 'system', 'content': system_message},\n",
    "    {'role': 'user', 'content': q_a_pair}\n",
    "]"
   ]
  },
  {
   "cell_type": "code",
   "execution_count": 18,
   "id": "722aaa9d",
   "metadata": {},
   "outputs": [],
   "source": [
    "response = get_completion_from_messages(messages, max_tokens=1)"
   ]
  },
  {
   "cell_type": "code",
   "execution_count": 19,
   "id": "2f990a12",
   "metadata": {},
   "outputs": [
    {
     "name": "stdout",
     "output_type": "stream",
     "text": [
      "Y\n"
     ]
    }
   ],
   "source": [
    "print(response)"
   ]
  },
  {
   "cell_type": "code",
   "execution_count": 20,
   "id": "f31578bc",
   "metadata": {},
   "outputs": [],
   "source": [
    "another_response = \"life is like a box of chocolates\"\n",
    "\n",
    "q_a_pair = f\"\"\"\n",
    "Customer message: ```{customer_message}```\n",
    "Product information: ```{product_information}```\n",
    "Agent response: ```{another_response}```\n",
    "\n",
    "Does the response use the retrieved information correctly?\n",
    "Does the response sufficiently answer the question?\n",
    "\n",
    "Output Y or N\n",
    "\"\"\"\n",
    "\n",
    "messages = [\n",
    "    {'role': 'system', 'content': system_message},\n",
    "    {'role': 'user', 'content': q_a_pair}\n",
    "]"
   ]
  },
  {
   "cell_type": "code",
   "execution_count": 21,
   "id": "969f3c41",
   "metadata": {},
   "outputs": [],
   "source": [
    "response = get_completion_from_messages(messages)"
   ]
  },
  {
   "cell_type": "code",
   "execution_count": 22,
   "id": "43912828",
   "metadata": {},
   "outputs": [
    {
     "name": "stdout",
     "output_type": "stream",
     "text": [
      "N\n"
     ]
    }
   ],
   "source": [
    "print(response)"
   ]
  }
 ],
 "metadata": {
  "kernelspec": {
   "display_name": "env",
   "language": "python",
   "name": "python3"
  },
  "language_info": {
   "codemirror_mode": {
    "name": "ipython",
    "version": 3
   },
   "file_extension": ".py",
   "mimetype": "text/x-python",
   "name": "python",
   "nbconvert_exporter": "python",
   "pygments_lexer": "ipython3",
   "version": "3.12.1"
  }
 },
 "nbformat": 4,
 "nbformat_minor": 5
}
