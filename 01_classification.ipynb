{
 "cells": [
  {
   "cell_type": "markdown",
   "id": "f70b7e64",
   "metadata": {},
   "source": [
    "# Classification : evaluate inputs"
   ]
  },
  {
   "cell_type": "code",
   "execution_count": null,
   "id": "7a797c11",
   "metadata": {},
   "outputs": [],
   "source": [
    "import openai\n",
    "import os\n",
    "from dotenv import load_dotenv,find_dotenv\n",
    "\n",
    "load_dotenv(find_dotenv())\n",
    "openai.api_key = os.getenv(\"OPENAI_API_KEY\")\n",
    "client = openai.OpenAI()"
   ]
  },
  {
   "cell_type": "code",
   "execution_count": 7,
   "id": "2dfce3ec",
   "metadata": {},
   "outputs": [],
   "source": [
    "def get_completion_from_messages(messages, model=\"gpt-3.5-turbo\", temperature=0, max_tokens=500):\n",
    "    response = client.chat.completions.create(\n",
    "        messages=messages,\n",
    "        model=model,\n",
    "        temperature=temperature,\n",
    "        max_tokens=max_tokens\n",
    "    )\n",
    "    return response.choices[0].message.content"
   ]
  },
  {
   "cell_type": "code",
   "execution_count": null,
   "id": "c0c58a20",
   "metadata": {},
   "outputs": [],
   "source": [
    "delimiter = \"####\"\n",
    "system_message = f\"\"\"\n",
    "You will be provided with customer service queries. \n",
    "The customer service query will be delimited with \n",
    "{delimiter} characters.\n",
    "Classify each query into a primary category \n",
    "and a secondary category. \n",
    "Provide your output in json format with the \n",
    "keys: primary and secondary.\n",
    "\n",
    "Primary categories: Billing, Technical Support, \n",
    "Account Management, or General Inquiry.\n",
    "\n",
    "Billing secondary categories:\n",
    "Unsubscribe or upgrade\n",
    "Add a payment method\n",
    "Explanation for charge\n",
    "Dispute a charge\n",
    "\n",
    "Technical Support secondary categories:\n",
    "General troubleshooting\n",
    "Device compatibility\n",
    "Software updates\n",
    "\n",
    "Account Management secondary categories:\n",
    "Password reset\n",
    "Update personal information\n",
    "Close account\n",
    "Account security\n",
    "\n",
    "General Inquiry secondary categories:\n",
    "Product information\n",
    "Pricing\n",
    "Feedback\n",
    "Speak to a human\n",
    "\n",
    "\"\"\"\n",
    "user_message = f\"\"\"I want you to delete my profile and all of my user data\"\"\"\n",
    "messages =  [\n",
    "{'role':'system', 'content': system_message},    \n",
    "{'role':'user', 'content': f\"{delimiter}{user_message}{delimiter}\"},  \n",
    "] "
   ]
  },
  {
   "cell_type": "code",
   "execution_count": 9,
   "id": "c6a49041",
   "metadata": {},
   "outputs": [],
   "source": [
    "response = get_completion_from_messages(messages)"
   ]
  },
  {
   "cell_type": "code",
   "execution_count": 10,
   "id": "6b2b3d64",
   "metadata": {},
   "outputs": [
    {
     "name": "stdout",
     "output_type": "stream",
     "text": [
      "{\n",
      "  \"primary\": \"Account Management\",\n",
      "  \"secondary\": \"Close account\"\n",
      "}\n"
     ]
    }
   ],
   "source": [
    "print(response)"
   ]
  },
  {
   "cell_type": "code",
   "execution_count": 11,
   "id": "229ea7e3",
   "metadata": {},
   "outputs": [],
   "source": [
    "user_message = f\"\"\"Tell me more about your flat screen tvs\"\"\"\n",
    "messages = [\n",
    "   {'role': 'system', 'content': system_message},\n",
    "   {'role': 'user', 'content': f\"{delimiter}{user_message}{delimiter}\"}\n",
    "]"
   ]
  },
  {
   "cell_type": "code",
   "execution_count": 12,
   "id": "d544a90d",
   "metadata": {},
   "outputs": [],
   "source": [
    "response = get_completion_from_messages(messages)"
   ]
  },
  {
   "cell_type": "code",
   "execution_count": 13,
   "id": "30a17313",
   "metadata": {},
   "outputs": [
    {
     "name": "stdout",
     "output_type": "stream",
     "text": [
      "{\n",
      "  \"primary\": \"General Inquiry\",\n",
      "  \"secondary\": \"Product information\"\n",
      "}  \n",
      "\n"
     ]
    }
   ],
   "source": [
    "print(response)"
   ]
  }
 ],
 "metadata": {
  "kernelspec": {
   "display_name": "env",
   "language": "python",
   "name": "python3"
  },
  "language_info": {
   "codemirror_mode": {
    "name": "ipython",
    "version": 3
   },
   "file_extension": ".py",
   "mimetype": "text/x-python",
   "name": "python",
   "nbconvert_exporter": "python",
   "pygments_lexer": "ipython3",
   "version": "3.12.1"
  }
 },
 "nbformat": 4,
 "nbformat_minor": 5
}
